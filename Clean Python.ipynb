{
 "cells": [
  {
   "cell_type": "markdown",
   "id": "02a9f8cd",
   "metadata": {},
   "source": [
    "## 네이밍"
   ]
  },
  {
   "cell_type": "code",
   "execution_count": 1,
   "id": "ce005068",
   "metadata": {},
   "outputs": [],
   "source": [
    "### 변수와 함수\n",
    "\n",
    "## 소문자로 함수와 변수의 이름을 밑줄로 구분된 단어로 지정하면 가족성을 향상 시킬 수 있다.\n",
    "\n",
    "# 변수 이름\n",
    "names = \"Python\" # 변수 이름\n",
    "job_title = \"Software Engineer\" # 밑줄로 구분한 변수 이름\n",
    "populated_countries_list = [] # 밑줄로 구분한 변수 이름\n",
    "\n",
    "## 논맹글링(non-mangling)매서드 이름을 사용하는 것과 한 개의 밑줄이나 두개의 밑줄을 사용하는 것 고려\n",
    "\n",
    "# name mangling : 프로그래밍 엔티티에 대한 고유한 이름을 해결해야 할 필요성으로 인해 발생하는 다양한 문제를 해결하는 데 사용되는 기술\n",
    "\n",
    "# 논맹글링 이름\n",
    "_books = {} # 프라이빗(private)으로 정의한 변수 이름\n",
    "__dict = [] # 파이썬 내장 lib로 네임 맹글링(name mangling) 방지\n",
    "\n",
    "## 클래스의 내부 변수에 대한 접두사로 한 개의 밑줄을 사용해야 하며, 외부 클래스가 변수를 액세스하지 않도록 해야 한다.\n",
    "## 파이썬은 단일 밑줄 접두사 private으로 변수로 많들지 않는다.\n",
    "\n",
    "# 일반 함수 이름\n",
    "# 한 개의 밑줄로 구성한 함수 이름\n",
    "def get_data():\n",
    "    ---\n",
    "    ---\n",
    "def calculate_tax_data():\n",
    "    ---\n",
    "    \n",
    "## 내장 파이썬 함수로 네임 맹글링을 방지하려는 프라이빗 메서드와 일반 메서드에도 동일한 규칙이 적용\n",
    "\n",
    "# 프라이빗 메서드와 논맹글링을 나타내느 함수 이름\n",
    "# 한 개의 밑줄이 있는 프라이빗 메서드\n",
    "def _get_data():\n",
    "    ---\n",
    "    ---\n",
    "# 여러 내장 함수와 네임 맹글링을 방지하는 두 개의 밑줄\n",
    "def __path():\n",
    "    ---\n",
    "    ---\n",
    "## 네이밍 규칙을 따르는 것뿐만 아니라 함수나 변수에 모호한 이름을 사용하는 대신 특정 이름을 사용하는 것도 중요하다.\n",
    "## 사용자 ID가 제공되는 경우 user 객체를 반환하는 함수를 살펴본다.\n",
    "\n",
    "# 함수 이름\n",
    "# 잘못된 방법"
   ]
  },
  {
   "cell_type": "code",
   "execution_count": null,
   "id": "18739fce",
   "metadata": {},
   "outputs": [],
   "source": []
  }
 ],
 "metadata": {
  "kernelspec": {
   "display_name": "Python 3 (ipykernel)",
   "language": "python",
   "name": "python3"
  },
  "language_info": {
   "codemirror_mode": {
    "name": "ipython",
    "version": 3
   },
   "file_extension": ".py",
   "mimetype": "text/x-python",
   "name": "python",
   "nbconvert_exporter": "python",
   "pygments_lexer": "ipython3",
   "version": "3.11.4"
  }
 },
 "nbformat": 4,
 "nbformat_minor": 5
}
